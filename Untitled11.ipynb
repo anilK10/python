{
 "cells": [
  {
   "cell_type": "markdown",
   "metadata": {},
   "source": [
    "# collection of data structure type"
   ]
  },
  {
   "cell_type": "markdown",
   "metadata": {},
   "source": [
    "## list\n",
    "## tuple\n",
    "## set\n",
    "## dictionary"
   ]
  },
  {
   "cell_type": "code",
   "execution_count": 1,
   "metadata": {},
   "outputs": [
    {
     "name": "stdout",
     "output_type": "stream",
     "text": [
      "[1, 8, 16, 9, 2]\n",
      "16\n",
      "16\n",
      "[16, 9, 2]\n",
      "[16, 9]\n",
      "[16, 9]\n"
     ]
    }
   ],
   "source": [
    "li=[1,8,16,9,2]\n",
    "print(li)\n",
    "print(li[2])\n",
    "print(li[-3])\n",
    "print(li[2:])\n",
    "print(li[2:4])\n",
    "print(li[-3:-1])"
   ]
  },
  {
   "cell_type": "code",
   "execution_count": 2,
   "metadata": {},
   "outputs": [
    {
     "name": "stdout",
     "output_type": "stream",
     "text": [
      "['gitam', 123, 1235, 1236, 'hyd']\n"
     ]
    }
   ],
   "source": [
    "li=[\"gitam\",123,1235,1236,\"hyd\"]\n",
    "print(li)"
   ]
  },
  {
   "cell_type": "code",
   "execution_count": 3,
   "metadata": {},
   "outputs": [
    {
     "name": "stdout",
     "output_type": "stream",
     "text": [
      "116\n",
      "1\n",
      "156\n",
      "5\n",
      "31\n"
     ]
    }
   ],
   "source": [
    "li=[1,9,116,25,5]\n",
    "print(max(li))\n",
    "print(min(li))\n",
    "print(sum(li))\n",
    "print(len(li))\n",
    "print(sum(li)//len(li))"
   ]
  },
  {
   "cell_type": "code",
   "execution_count": 13,
   "metadata": {},
   "outputs": [
    {
     "data": {
      "text/plain": [
       "[1, 116, 25, 5, 9]"
      ]
     },
     "execution_count": 13,
     "metadata": {},
     "output_type": "execute_result"
    }
   ],
   "source": [
    "li=[1,9,116,25,5,9]\n",
    "# li.append(89)\n",
    "#li.insert(1,56)\n",
    "#li.count(9)\n",
    "#li.index(5)\n",
    "#li.sort()\n",
    "li.pop(1)\n",
    "li"
   ]
  },
  {
   "cell_type": "code",
   "execution_count": 18,
   "metadata": {},
   "outputs": [
    {
     "data": {
      "text/plain": [
       "[79, 78, 76, 25, 116, 9, 1]"
      ]
     },
     "execution_count": 18,
     "metadata": {},
     "output_type": "execute_result"
    }
   ],
   "source": [
    "li=[1,9,116,25,5]\n",
    "li1=[76,78,79]\n",
    "li.extend(li1)\n",
    "li.reverse()\n",
    "li.pop(3)\n",
    "li"
   ]
  },
  {
   "cell_type": "code",
   "execution_count": 21,
   "metadata": {},
   "outputs": [
    {
     "name": "stdout",
     "output_type": "stream",
     "text": [
      "45\n",
      "9\n"
     ]
    }
   ],
   "source": [
    "def largestnumber(li):\n",
    "    li.sort()\n",
    "    return li[-1]\n",
    "def genericlarge(li,m):\n",
    "    li.sort()\n",
    "    return li[-m]\n",
    "li=[1,9,45,7,10]\n",
    "print(largestnumber(li))\n",
    "print(genericlarge(li,3))\n"
   ]
  },
  {
   "cell_type": "code",
   "execution_count": 27,
   "metadata": {},
   "outputs": [
    {
     "name": "stdout",
     "output_type": "stream",
     "text": [
      "1\n",
      "3\n"
     ]
    }
   ],
   "source": [
    "def smallest(li):\n",
    "    li.sort()\n",
    "    return li[0]\n",
    "def genericsmall(li,n):\n",
    "    li.sort()\n",
    "    return li[n]\n",
    "li=[1,3,6,2,5]\n",
    "print(smallest(li))\n",
    "print(genericsmall(li,2))"
   ]
  },
  {
   "cell_type": "markdown",
   "metadata": {},
   "source": [
    "# tuple\n",
    "## it is one common data structure in python, the items of tuples seperated by comma and enclosed by parenthesis()\n",
    "### example\n",
    "### x=(1,2,3,4)"
   ]
  },
  {
   "cell_type": "markdown",
   "metadata": {},
   "source": [
    "# list and tuple\n",
    "# in list are mutable -can be changed/modified\n",
    "# list is used to modify,add,delete,update\n",
    "# tuple are immutable -cannot be changed\n",
    "# tuple used access data only"
   ]
  },
  {
   "cell_type": "code",
   "execution_count": 28,
   "metadata": {},
   "outputs": [
    {
     "data": {
      "text/plain": [
       "(1, 2, 3, 4, 5)"
      ]
     },
     "execution_count": 28,
     "metadata": {},
     "output_type": "execute_result"
    }
   ],
   "source": [
    "t1=(1,2,3,4,5)\n",
    "t1"
   ]
  },
  {
   "cell_type": "markdown",
   "metadata": {},
   "source": [
    "# dictionary\n"
   ]
  },
  {
   "cell_type": "code",
   "execution_count": 30,
   "metadata": {},
   "outputs": [
    {
     "data": {
      "text/plain": [
       "('name', 'gitam')"
      ]
     },
     "execution_count": 30,
     "metadata": {},
     "output_type": "execute_result"
    }
   ],
   "source": [
    "d1=(\"name\",\"gitam\")\n",
    "d1"
   ]
  },
  {
   "cell_type": "code",
   "execution_count": 39,
   "metadata": {},
   "outputs": [
    {
     "name": "stdout",
     "output_type": "stream",
     "text": [
      "p\n",
      "o\n",
      "ytho\n",
      "h\n",
      "ph\n",
      "nohtyp\n"
     ]
    }
   ],
   "source": [
    "s1=\"python\"\n",
    "print(s1[0])\n",
    "print(s1[len(s1)-2])\n",
    "print(s1[1:-1])\n",
    "print(s1[len(s1)//2])\n",
    "print(s1[::3])\n",
    "print(s1[::-1])"
   ]
  },
  {
   "cell_type": "markdown",
   "metadata": {},
   "source": [
    "# string bult in methods:\n",
    "##### upper\n",
    "##### lower\n",
    "##### islower\n",
    "##### isupper\n",
    "##### istitle\n",
    "##### isnumeric\n",
    "##### isalpha\n",
    "##### isspace\n",
    " \n"
   ]
  },
  {
   "cell_type": "code",
   "execution_count": 52,
   "metadata": {},
   "outputs": [
    {
     "name": "stdout",
     "output_type": "stream",
     "text": [
      "PYTHON\n",
      "python\n",
      "False\n",
      "True\n",
      "False\n",
      "True\n",
      "False\n"
     ]
    }
   ],
   "source": [
    "s1=\"python\"\n",
    "print(s1.upper())\n",
    "print(s1.lower())\n",
    "print(s1.isupper())\n",
    "print(s1.islower())\n",
    "print(s1.istitle())\n",
    "print(s1.isalpha())\n",
    "print(s1.isspace())"
   ]
  },
  {
   "cell_type": "code",
   "execution_count": 53,
   "metadata": {},
   "outputs": [
    {
     "name": "stdout",
     "output_type": "stream",
     "text": [
      "True\n"
     ]
    }
   ],
   "source": [
    "s1=\" \"\n",
    "print(s1.isspace())"
   ]
  },
  {
   "cell_type": "code",
   "execution_count": 58,
   "metadata": {},
   "outputs": [
    {
     "name": "stdout",
     "output_type": "stream",
     "text": [
      "p . y . t . h . o . n\n"
     ]
    }
   ],
   "source": [
    "s1=\"python\"\n",
    "print(\" . \".join(s1))"
   ]
  },
  {
   "cell_type": "code",
   "execution_count": 60,
   "metadata": {},
   "outputs": [
    {
     "name": "stdout",
     "output_type": "stream",
     "text": [
      "this is my game\n"
     ]
    }
   ],
   "source": [
    "s1=\"this is my college\"\n",
    "print(s1.replace(\"college\",\"game\"))"
   ]
  },
  {
   "cell_type": "code",
   "execution_count": null,
   "metadata": {},
   "outputs": [],
   "source": []
  }
 ],
 "metadata": {
  "kernelspec": {
   "display_name": "Python 2",
   "language": "python",
   "name": "python2"
  },
  "language_info": {
   "codemirror_mode": {
    "name": "ipython",
    "version": 2
   },
   "file_extension": ".py",
   "mimetype": "text/x-python",
   "name": "python",
   "nbconvert_exporter": "python",
   "pygments_lexer": "ipython2",
   "version": "2.7.16"
  }
 },
 "nbformat": 4,
 "nbformat_minor": 2
}
