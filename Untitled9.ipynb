{
 "cells": [
  {
   "cell_type": "markdown",
   "metadata": {},
   "source": [
    "# markdown"
   ]
  },
  {
   "cell_type": "markdown",
   "metadata": {},
   "source": [
    "## markdown\n"
   ]
  },
  {
   "cell_type": "markdown",
   "metadata": {},
   "source": [
    "### markdown"
   ]
  },
  {
   "cell_type": "markdown",
   "metadata": {},
   "source": [
    "insert site address"
   ]
  },
  {
   "cell_type": "markdown",
   "metadata": {},
   "source": [
    "!(site)[data:image/jpeg;base64,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]"
   ]
  },
  {
   "cell_type": "markdown",
   "metadata": {},
   "source": [
    "![site](https://images.pexels.com/photos/414612/pexels-photo-414612.jpeg?auto=compress&cs=tinysrgb&dpr=1&w=500)"
   ]
  },
  {
   "cell_type": "markdown",
   "metadata": {},
   "source": [
    "![site](https://images.pexels.com/photos/414612/pexels-photo-414612.jpeg?auto=compress&cs=tinysrgb&dpr=1&w=500)"
   ]
  },
  {
   "cell_type": "code",
   "execution_count": 1,
   "metadata": {},
   "outputs": [],
   "source": [
    "x=10"
   ]
  },
  {
   "cell_type": "code",
   "execution_count": 3,
   "metadata": {},
   "outputs": [],
   "source": [
    "y=5"
   ]
  },
  {
   "cell_type": "code",
   "execution_count": 4,
   "metadata": {},
   "outputs": [
    {
     "data": {
      "text/plain": [
       "15"
      ]
     },
     "execution_count": 4,
     "metadata": {},
     "output_type": "execute_result"
    }
   ],
   "source": [
    "x+y"
   ]
  },
  {
   "cell_type": "code",
   "execution_count": 9,
   "metadata": {},
   "outputs": [],
   "source": [
    "name=\"Anil\""
   ]
  },
  {
   "cell_type": "code",
   "execution_count": 12,
   "metadata": {},
   "outputs": [],
   "source": [
    "age=20"
   ]
  },
  {
   "cell_type": "code",
   "execution_count": 13,
   "metadata": {},
   "outputs": [
    {
     "name": "stdout",
     "output_type": "stream",
     "text": [
      "('my name is', 'Anil', 'my age is', 20)\n"
     ]
    }
   ],
   "source": [
    "print(\"my name is\",name,\"my age is\",age)"
   ]
  },
  {
   "cell_type": "code",
   "execution_count": null,
   "metadata": {},
   "outputs": [],
   "source": [
    "age = int(input(\"enter age\"))"
   ]
  },
  {
   "cell_type": "code",
   "execution_count": null,
   "metadata": {},
   "outputs": [],
   "source": [
    "print(\"my name is\",name,\"age is\",age)"
   ]
  },
  {
   "cell_type": "code",
   "execution_count": null,
   "metadata": {},
   "outputs": [],
   "source": []
  },
  {
   "cell_type": "code",
   "execution_count": 17,
   "metadata": {},
   "outputs": [
    {
     "name": "stdout",
     "output_type": "stream",
     "text": [
      "enter a number10\n",
      "enter a number5\n",
      "('x+y is', 15, 'x-y is', 5, 'x%y is', 0, 'x*y is', 50)\n"
     ]
    }
   ],
   "source": [
    "x=input(\"enter a number\")\n",
    "y=int(input(\"enter a number\"))\n",
    "print(\"x+y is\",x+y,\"x-y is\",x-y,\"x%y is\",x%y,\"x*y is\",x*y)"
   ]
  },
  {
   "cell_type": "code",
   "execution_count": 6,
   "metadata": {},
   "outputs": [
    {
     "name": "stdout",
     "output_type": "stream",
     "text": [
      "<type 'int'>\n",
      "<type 'float'>\n",
      "<type 'complex'>\n"
     ]
    }
   ],
   "source": [
    "x = 10\n",
    "y = 12.32\n",
    "z = 5+6j\n",
    "print(type(x))\n",
    "print(type(y))\n",
    "print(type(z))"
   ]
  },
  {
   "cell_type": "code",
   "execution_count": 7,
   "metadata": {},
   "outputs": [
    {
     "name": "stdout",
     "output_type": "stream",
     "text": [
      "(2+3j)\n"
     ]
    }
   ],
   "source": [
    "c=complex(2,3)\n",
    "print(c)"
   ]
  },
  {
   "cell_type": "code",
   "execution_count": 8,
   "metadata": {},
   "outputs": [
    {
     "ename": "NameError",
     "evalue": "name 'false' is not defined",
     "output_type": "error",
     "traceback": [
      "\u001b[1;31m---------------------------------------------------------------------------\u001b[0m",
      "\u001b[1;31mNameError\u001b[0m                                 Traceback (most recent call last)",
      "\u001b[1;32m<ipython-input-8-30e15ec96438>\u001b[0m in \u001b[0;36m<module>\u001b[1;34m()\u001b[0m\n\u001b[1;32m----> 1\u001b[1;33m \u001b[0mx\u001b[0m \u001b[1;33m=\u001b[0m \u001b[0mfalse\u001b[0m\u001b[1;33m\u001b[0m\u001b[0m\n\u001b[0m\u001b[0;32m      2\u001b[0m \u001b[0my\u001b[0m \u001b[1;33m=\u001b[0m \u001b[0mtrue\u001b[0m\u001b[1;33m\u001b[0m\u001b[0m\n\u001b[0;32m      3\u001b[0m \u001b[0mx\u001b[0m\u001b[1;33m<\u001b[0m\u001b[0my\u001b[0m\u001b[1;33m\u001b[0m\u001b[0m\n",
      "\u001b[1;31mNameError\u001b[0m: name 'false' is not defined"
     ]
    }
   ],
   "source": [
    "x = false\n",
    "y = true\n"
   ]
  },
  {
   "cell_type": "code",
   "execution_count": 9,
   "metadata": {},
   "outputs": [
    {
     "data": {
      "text/plain": [
       "False"
      ]
     },
     "execution_count": 9,
     "metadata": {},
     "output_type": "execute_result"
    }
   ],
   "source": [
    "x = 5\n",
    "y = 3\n",
    "y>x\n"
   ]
  },
  {
   "cell_type": "code",
   "execution_count": 11,
   "metadata": {},
   "outputs": [
    {
     "name": "stdout",
     "output_type": "stream",
     "text": [
      "<type 'str'>\n",
      "<type 'str'>\n"
     ]
    }
   ],
   "source": [
    "\n",
    "s1=\"adcd\"\n",
    "s2=\"1234\"\n",
    "print(type(s1))\n",
    "print(type(s2))\n"
   ]
  },
  {
   "cell_type": "code",
   "execution_count": 14,
   "metadata": {},
   "outputs": [
    {
     "name": "stdout",
     "output_type": "stream",
     "text": [
      "<type 'int'>\n",
      "<type 'str'>\n",
      "<type 'float'>\n"
     ]
    }
   ],
   "source": [
    "i=532\n",
    "print(type(i))\n",
    "s1=str(i)\n",
    "print(type(s1))\n",
    "f1=float(i)\n",
    "print(type(f1))"
   ]
  },
  {
   "cell_type": "code",
   "execution_count": 15,
   "metadata": {},
   "outputs": [
    {
     "name": "stdout",
     "output_type": "stream",
     "text": [
      "5\n"
     ]
    }
   ],
   "source": [
    "a=str(23562)\n",
    "print(len(a))\n"
   ]
  },
  {
   "cell_type": "code",
   "execution_count": 25,
   "metadata": {},
   "outputs": [
    {
     "name": "stdout",
     "output_type": "stream",
     "text": [
      "100\n",
      "120 120 120\n",
      "123 234 345\n"
     ]
    }
   ],
   "source": [
    "n1=100\n",
    "a=b=c=120\n",
    "a1,b1,c1=123,234,345\n",
    "print(n1)\n",
    "print a,b,c\n",
    "print a1,b1,c1\n"
   ]
  },
  {
   "cell_type": "code",
   "execution_count": 22,
   "metadata": {},
   "outputs": [
    {
     "name": "stdout",
     "output_type": "stream",
     "text": [
      "8\n"
     ]
    }
   ],
   "source": [
    "x=1+2**3/4+5\n",
    "print(x)\n"
   ]
  },
  {
   "cell_type": "code",
   "execution_count": 24,
   "metadata": {},
   "outputs": [
    {
     "name": "stdout",
     "output_type": "stream",
     "text": [
      "11\n"
     ]
    }
   ],
   "source": [
    "x=1+2**3/4*5\n",
    "print(x)"
   ]
  },
  {
   "cell_type": "markdown",
   "metadata": {},
   "source": [
    "# operators\n",
    "## Arithmetic operators\n",
    "- +\n",
    "- -\n",
    "- *\n",
    "- %\n",
    "- **\n",
    "- //"
   ]
  },
  {
   "cell_type": "code",
   "execution_count": 27,
   "metadata": {},
   "outputs": [
    {
     "name": "stdout",
     "output_type": "stream",
     "text": [
      "5\n"
     ]
    }
   ],
   "source": [
    "x=5+8**2/10-6\n",
    "print(x)"
   ]
  },
  {
   "cell_type": "markdown",
   "metadata": {},
   "source": [
    "# Relational operator\n",
    "- ==\n",
    "- !=\n",
    "- <\n",
    "- '>'\n",
    "- <=\n",
    "- =>"
   ]
  },
  {
   "cell_type": "code",
   "execution_count": 28,
   "metadata": {},
   "outputs": [
    {
     "name": "stdout",
     "output_type": "stream",
     "text": [
      "2\n",
      "2\n"
     ]
    }
   ],
   "source": [
    " a=10\n",
    "b=4\n",
    "print(a//b)\n",
    "print(a%b)"
   ]
  },
  {
   "cell_type": "markdown",
   "metadata": {},
   "source": [
    "# logical operators\n",
    "- AND\n",
    "- OR\n",
    "- NOT"
   ]
  },
  {
   "cell_type": "code",
   "execution_count": 29,
   "metadata": {},
   "outputs": [
    {
     "name": "stdout",
     "output_type": "stream",
     "text": [
      "False\n"
     ]
    }
   ],
   "source": [
    "i=10\n",
    "a=(i>20) and (i>76)\n",
    "print(a)"
   ]
  },
  {
   "cell_type": "code",
   "execution_count": 31,
   "metadata": {},
   "outputs": [
    {
     "name": "stdout",
     "output_type": "stream",
     "text": [
      "True\n"
     ]
    }
   ],
   "source": [
    "i=56\n",
    "a=(i>25) and (i>12)\n",
    "print(a)"
   ]
  },
  {
   "cell_type": "code",
   "execution_count": 32,
   "metadata": {},
   "outputs": [
    {
     "name": "stdout",
     "output_type": "stream",
     "text": [
      "True\n"
     ]
    }
   ],
   "source": [
    "i=34\n",
    "j=53\n",
    "a=(i<j) and (j>i)\n",
    "print(a)"
   ]
  },
  {
   "cell_type": "markdown",
   "metadata": {},
   "source": [
    "# Membership operators\n",
    "- IN\n",
    "- NOT IN\n"
   ]
  },
  {
   "cell_type": "code",
   "execution_count": 33,
   "metadata": {},
   "outputs": [
    {
     "name": "stdout",
     "output_type": "stream",
     "text": [
      "False\n",
      "True\n"
     ]
    }
   ],
   "source": [
    "str1=\"ABC\"\n",
    "print(\"a\" in str1)\n",
    "print(\"a\" not in str1)"
   ]
  },
  {
   "cell_type": "markdown",
   "metadata": {},
   "source": [
    "# control flow statements\n",
    "### conditional statements\n",
    "### looping statements\n",
    "## if else statements\n",
    "  - syntax\n",
    "  if condition:\n",
    "  > statement(if)\n",
    "\n",
    "\n"
   ]
  },
  {
   "cell_type": "code",
   "execution_count": 42,
   "metadata": {},
   "outputs": [
    {
     "name": "stdout",
     "output_type": "stream",
     "text": [
      "enter the number15\n",
      "YES\n"
     ]
    }
   ],
   "source": [
    "# check given number is perfectly multiple of 3 and 5\n",
    "n=int(input(\"enter the number\"))\n",
    "if n%3==0 and n%5==0:\n",
    "    print(\"YES\")\n",
    "else:\n",
    "    print(\"NO\")"
   ]
  },
  {
   "cell_type": "code",
   "execution_count": 50,
   "metadata": {},
   "outputs": [
    {
     "ename": "SyntaxError",
     "evalue": "invalid syntax (<ipython-input-50-1c6238db24a7>, line 3)",
     "output_type": "error",
     "traceback": [
      "\u001b[1;36m  File \u001b[1;32m\"<ipython-input-50-1c6238db24a7>\"\u001b[1;36m, line \u001b[1;32m3\u001b[0m\n\u001b[1;33m    if n>0=positive:\u001b[0m\n\u001b[1;37m          ^\u001b[0m\n\u001b[1;31mSyntaxError\u001b[0m\u001b[1;31m:\u001b[0m invalid syntax\n"
     ]
    }
   ],
   "source": [
    "# check given number is positive or negitive or zero\n",
    "n=int(input(\"enter the number\"))\n",
    "if n>0=positive: \n",
    "else if n<0=negitive:\n",
    "  print(\"positive\")\n",
    "else:\n",
    "  print(\"negitive\")\n",
    "        \n",
    "        "
   ]
  },
  {
   "cell_type": "code",
   "execution_count": null,
   "metadata": {},
   "outputs": [],
   "source": []
  },
  {
   "cell_type": "code",
   "execution_count": null,
   "metadata": {},
   "outputs": [],
   "source": []
  }
 ],
 "metadata": {
  "kernelspec": {
   "display_name": "Python 2",
   "language": "python",
   "name": "python2"
  },
  "language_info": {
   "codemirror_mode": {
    "name": "ipython",
    "version": 2
   },
   "file_extension": ".py",
   "mimetype": "text/x-python",
   "name": "python",
   "nbconvert_exporter": "python",
   "pygments_lexer": "ipython2",
   "version": "2.7.16"
  }
 },
 "nbformat": 4,
 "nbformat_minor": 2
}
